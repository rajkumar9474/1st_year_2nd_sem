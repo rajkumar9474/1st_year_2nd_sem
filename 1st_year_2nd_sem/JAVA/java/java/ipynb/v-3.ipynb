{
 "cells": [
  {
   "cell_type": "markdown",
   "metadata": {},
   "source": [
    "<font face=\"Arial\" color=\"green\" size = 10px>your first java program</font>\n",
    "<font face>\n",
    "<p>a program in c to display massage</p>\n"
   ]
  },
  {
   "cell_type": "code",
   "execution_count": null,
   "metadata": {},
   "outputs": [],
   "source": [
    "%%cmd\n",
    "#include<stdio.h>\n",
    "int main()\n",
    "{\n",
    "    printf(\"hello wolrd\");\n",
    "    return 0;\n",
    "}"
   ]
  },
  {
   "cell_type": "code",
   "execution_count": null,
   "metadata": {},
   "outputs": [],
   "source": [
    "%%java\n",
    "// a program in java to display massage\n",
    "\n",
    "public class main{\n",
    "    public static void main(String args[]){\n",
    "        System.out.println(\"hello world\");\n",
    "    }\n",
    "}"
   ]
  },
  {
   "cell_type": "markdown",
   "metadata": {},
   "source": [
    "<font face=\"Arial\" color=\"green\" size = 10px>java program compilation</font>\n",
    "<p>the java compiler(javac) converts a java program into java byte code</p>\n",
    "<p>enter the following command to compile:<br> javac javaprogram.java</p>\n",
    "<p>this will create a byte code file with .class extension</p>\n",
    "<p>the creaeted file is javaprogram.class</p>\n",
    "<font face=\"Arial\" color=\"green\" size = 10px>java program execution</font>\n",
    "<p>to execute the java file. enter the following code</p>\n",
    "<p>java javaprogram</p>\n"
   ]
  },
  {
   "cell_type": "markdown",
   "metadata": {},
   "source": []
  }
 ],
 "metadata": {
  "kernelspec": {
   "display_name": "Python 3",
   "language": "python",
   "name": "python3"
  },
  "language_info": {
   "codemirror_mode": {
    "name": "ipython",
    "version": 3
   },
   "file_extension": ".py",
   "mimetype": "text/x-python",
   "name": "python",
   "nbconvert_exporter": "python",
   "pygments_lexer": "ipython3",
   "version": "3.12.1"
  }
 },
 "nbformat": 4,
 "nbformat_minor": 2
}
