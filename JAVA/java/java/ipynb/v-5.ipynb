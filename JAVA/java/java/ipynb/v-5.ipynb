{
 "cells": [
  {
   "cell_type": "code",
   "execution_count": null,
   "metadata": {},
   "outputs": [],
   "source": [
    "%%java\n",
    "package basicsofjava;\n",
    "\n",
    "public class basics{\n",
    "    public static void main(String[] args){\n",
    "        int arr[] = {10,20,30,40,50};\n",
    "        for(int i = 0;i<5;i++){\n",
    "            System.out.println(arr[i]);\n",
    "        }\n",
    "        float sum = 0,avg;\n",
    "        for(int i = 0;i<5;i++){\n",
    "            sum = sum+arr[i];\n",
    "        }\n",
    "        avg = sum/5;\n",
    "        System.out.println(avg);\n",
    "        \n",
    "    }\n",
    "}\n"
   ]
  },
  {
   "cell_type": "markdown",
   "metadata": {},
   "source": [
    "println and print have some difference"
   ]
  },
  {
   "cell_type": "code",
   "execution_count": null,
   "metadata": {},
   "outputs": [],
   "source": [
    "%%java\n",
    "\n",
    "// 3d array\n",
    "\n",
    "package basicsofjava;\n",
    "\n",
    "public class basics{\n",
    "    public static void main(String[] args){\n",
    "        int arr[][][] = new int[3][4][5];\n",
    "        for(int i = 0;i<3;i++){\n",
    "            for(int j = 0;j<4;j++){\n",
    "                for(int k = 0;k<5;k++){\n",
    "                    arr[i][j][k] = (i+1)*(j+1)*(k+1);\n",
    "                }\n",
    "            }\n",
    "        }\n",
    "        \n",
    "        for(int i = 0;i<3;i++){\n",
    "            for(int j = 0;j<4;j++){\n",
    "                for(int k = 0;k<5;k++){\n",
    "                    System.out.print(arr[i][j][k]+\" \");\n",
    "                }\n",
    "                System.out.println();\n",
    "            }\n",
    "            System.out.println();\n",
    "        }\n",
    "        \n",
    "    }\n",
    "}\n"
   ]
  }
 ],
 "metadata": {
  "language_info": {
   "name": "python"
  }
 },
 "nbformat": 4,
 "nbformat_minor": 2
}
