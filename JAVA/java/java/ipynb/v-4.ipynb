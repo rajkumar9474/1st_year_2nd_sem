{
 "cells": [
  {
   "cell_type": "markdown",
   "metadata": {},
   "source": [
    "<font face=\"Arial\" color=\"green\" size = 10px>java tools and resorces</font>"
   ]
  },
  {
   "cell_type": "markdown",
   "metadata": {},
   "source": [
    "<font face=\"Arial\" color=\"green\" size = 10px>packages in java</font>\n",
    "<p>\n",
    "API(applicaiton programmign interface)in java SDK\n",
    "<ul>\n",
    "<li>java.applet</li>\n",
    "- for applet programming\n",
    "<li>java.awt</li>\n",
    "- the abstract windoing toolkit for designing GUI like button,checkbox,xhoice,menu,pannel,ect\n",
    "<li>java.io</li>\n",
    "- file input/output handling\n",
    "<li>java.lang</li>\n",
    "- provides useful classes liek to handle object,thread,exception,string,system,maht,float,integer etc.\n",
    "<li>java.net</li>\n",
    "- classes for networking; supports TCP/IP networking protocols\n",
    "<li>java.util</li>\n",
    "- it contains miscellaneous classes like Vector,stack, list,date,dictonary,hash etc.\n",
    "<li>java.swing</li>\n",
    "- for designing graphical user interface(GUI)\n",
    "<li>java.sql</li>\n",
    "- for database connecitivity(JDBC)\n",
    "</ul>\n",
    "</p>"
   ]
  },
  {
   "cell_type": "markdown",
   "metadata": {},
   "source": [
    "<font face=\"Arial\" color=\"green\" size = 10px>built-in data types in java</font>\n",
    "\n",
    "boolean -> 1 bit <br>\n",
    "byte -> 8 bit <br>\n",
    "char -> 16 bit <br>\n",
    "short -> 16 bit <br>\n",
    "int -> 32 bit <br>\n",
    "long -> 64 bit <br>\n",
    "flaot -> 32 bit <br>\n",
    "double -> 64 bit <br>"
   ]
  },
  {
   "cell_type": "markdown",
   "metadata": {},
   "source": [
    "<font face=\"Arial\" color=\"green\" size = 10px>the java character set</font>\n",
    "<p>the java language alphabet</p>\n",
    "<p>upper case letter </p>\n",
    "<p>lowercase letters</p>\n",
    "<p>digits</p>\n",
    "<p>java special characters</p>"
   ]
  },
  {
   "cell_type": "markdown",
   "metadata": {},
   "source": [
    "<font face=\"Arial\" color=\"green\" size = 10px>identifiers in java</font>\n",
    "<p>manes given to various program elements</p>\n",
    "<p>may consist of letter ,digit and the underscore(\"_\") character, with no space between</p>\n",
    "<p>blank and comma are not allowed</p>\n",
    "<p>first character must be an alphabet or underscore</p>\n",
    "<p>an identifier can be arbitrary long</p>\n",
    "<p>identifier should not eb a reserved word</p>\n",
    "<p>java programming is a case sensitive programmign language</p>"
   ]
  },
  {
   "cell_type": "markdown",
   "metadata": {},
   "source": [
    "<font face=\"Arial\" color=\"green\" size = 10px>creating an array</font>\n",
    "<p>declaration of array</p>\n",
    "<p>type arrayname[];<br>\n",
    "itn x[];</p>\n",
    "<p>type [] arrayname;<br>\n",
    "int []x;</p><br>\n",
    "<p>memory allocation for an array</p>\n",
    "<p>arrayname = new type[size]<br>\n",
    "x = new int[100];</p>\n",
    "<br>\n",
    "<p>define and allocate memory together</p>\n",
    "<p>type arrayname[] = new type [size];<br>\n",
    "int x[] = new int[100];</p>"
   ]
  },
  {
   "cell_type": "markdown",
   "metadata": {},
   "source": []
  }
 ],
 "metadata": {
  "language_info": {
   "name": "python"
  }
 },
 "nbformat": 4,
 "nbformat_minor": 2
}
