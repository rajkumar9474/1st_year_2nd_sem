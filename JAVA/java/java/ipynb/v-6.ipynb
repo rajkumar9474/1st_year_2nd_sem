{
 "cells": [
  {
   "cell_type": "markdown",
   "metadata": {},
   "source": [
    "<font face=\"arial\" color=\"green\" size=10px>java applet programming</font>"
   ]
  },
  {
   "cell_type": "markdown",
   "metadata": {},
   "source": [
    "#### java programming for applet\n",
    "#### applet\n",
    "###### a java applet is a program that appears embedded in a web document and applet come into effect when the browser brows the web page\n",
    "#### application\n",
    "###### it is similar to all other kind of programs like in C,C++ ,python, to solve a problam"
   ]
  },
  {
   "cell_type": "markdown",
   "metadata": {},
   "source": [
    "### hosting an applet with HTML\n",
    "###### edit an HTML file to host the applet just create. the HTML file look like as."
   ]
  },
  {
   "cell_type": "code",
   "execution_count": null,
   "metadata": {},
   "outputs": [],
   "source": [
    "%%HTML\n",
    "<html>\n",
    "    <body>\n",
    "        <applet code=\"appletsource.class\" width = \"300\" height = \"300\">\n",
    "        </applet>\n",
    "    </body>\n",
    "</html>"
   ]
  },
  {
   "cell_type": "markdown",
   "metadata": {},
   "source": [
    "### structure of an applet\n"
   ]
  },
  {
   "cell_type": "markdown",
   "metadata": {},
   "source": []
  }
 ],
 "metadata": {
  "language_info": {
   "name": "python"
  }
 },
 "nbformat": 4,
 "nbformat_minor": 2
}
