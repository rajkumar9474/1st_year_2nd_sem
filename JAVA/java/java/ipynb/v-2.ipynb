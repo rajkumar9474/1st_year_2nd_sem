{
 "cells": [
  {
   "cell_type": "markdown",
   "metadata": {},
   "source": [
    "## lecture 01:intruction"
   ]
  },
  {
   "cell_type": "markdown",
   "metadata": {},
   "source": [
    "<font face=\"Arial\" color=\"green\" size = 10px>concept of java programming</font>\n",
    "<p>the creator of java is james gosling,mike sheridan,patrick naughtom 1991. this team is called green team</p>\n",
    "<p>firstly it was clalled \"greentalk\" , and have the extension .gt</p> \n",
    "<p>greentalk was remaned as oak</p>\n",
    "<p>in 1995 oak was renamed as java</p>\n",
    "<p>JDK (java development kit) 1.0 was relalised in january 23,1996</p>"
   ]
  },
  {
   "cell_type": "markdown",
   "metadata": {},
   "source": [
    "<font face=\"Arial\" color=\"green\" size = 10px>the java programmign is claimed as</font>\n",
    "simple<br>\n",
    "robust<br>\n",
    "object orianted<br>\n",
    "architecture neutral<br>\n",
    "dynamic<br>\n",
    "platform independent<br>\n",
    "interpreted<br>\n",
    "multithreaded<br>\n",
    "high performance<br>\n",
    "secure<br>\n",
    "portable<br>\n"
   ]
  },
  {
   "cell_type": "markdown",
   "metadata": {},
   "source": [
    "<font face=\"Arial\" color=\"green\" size = 10px>how is java unique</font>\n",
    "<p>machine level: it is stored in binary form in 0 and 1</p>\n",
    "<p>assembly level: it is stpred in some numeric codes</p>\n",
    "<p>high level: it is look like some english language</p>\n",
    "<p></p>\n",
    "<p></p>\n",
    "<p></p>\n",
    "<p></p>\n",
    "<p></p>"
   ]
  },
  {
   "cell_type": "markdown",
   "metadata": {},
   "source": [
    "<font face=\"Arial\" color=\"green\" size = 10px>high level programming principles</font>\n",
    "<p>funciton oriented programmign</p>\n",
    "<p>object oriented prigramming</p>\n",
    "<p></p >\n",
    "<p></p>"
   ]
  },
  {
   "cell_type": "markdown",
   "metadata": {},
   "source": [
    "<font face=\"Arial\" color=\"green\" size = 10px>java programmign paradigm</font>\n",
    "<ul>\n",
    "<li>encapsulation</li>\n",
    "<li>inheritance</li>\n",
    "<li>information hiding</li>\n",
    "<li>polymorphism</li>\n",
    "</ul>\n",
    "<font face=\"Arial\" color=\"green\" size = 10px>encapsulation</font>\n",
    "<p>encapsulaiton in java is a process of wrapping code and data together into a songle unit, for example, a capsule which is mixed of several medicines.</p>\n",
    "<font face=\"Arial\" color=\"green\" size = 10px>inheritance in java</font>\n",
    "<p>inheritance in java is a mechanism in which one object acquires all the properties and behaviors of a parent object. it is an important part of OOPs (object oriented programming system)</p>\n",
    "<font face=\"Arial\" color=\"green\" size = 10px>information hiding</font>\n",
    "<p>informaiton hiding is basically known to hide some infromaiton or methode from the public, using the keywords protected and private</p>\n",
    "<font face=\"Arial\" color=\"green\" size = 10px>polymorphism</font>\n",
    "<p>polymorphism refers to a programming language's ability to process object depending on their class.\n",
    "</p>"
   ]
  },
  {
   "cell_type": "markdown",
   "metadata": {},
   "source": [
    "<font face=\"Arial\" color=\"green\" size = 10px>java programming feature</font>\n",
    "<ul>\n",
    "<li>java core</li>\n",
    "<ul>\n",
    "<li>multithreading</il>\n",
    "<li>interface</il>\n",
    "<li>I/O handler</il>\n",
    "<li>java bean</il>\n",
    "<li>packages</il>\n",
    "<li>exception handling</il>\n",
    "</ul>\n",
    "<li>java applet</li>\n",
    "<ul>\n",
    "<li>java multmedia</il>\n",
    "<li>java script</il>\n",
    "<li>java swing</il>\n",
    "<li>java toolkit</il>\n",
    "</ul>\n",
    "<li>java internet</li>\n",
    "<ul>\n",
    "<li>JSP(java script programming)</il>\n",
    "<li>JDBC(java database connectivity)</il>\n",
    "<li>distributed programming</il>\n",
    "<li>networking</il>\n",
    "</ul>\n",
    "</ul>\n"
   ]
  },
  {
   "cell_type": "markdown",
   "metadata": {},
   "source": []
  }
 ],
 "metadata": {
  "language_info": {
   "name": "python"
  }
 },
 "nbformat": 4,
 "nbformat_minor": 2
}
